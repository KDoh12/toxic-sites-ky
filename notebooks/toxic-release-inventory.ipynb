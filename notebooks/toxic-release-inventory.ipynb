{
 "cells": [
  {
   "attachments": {},
   "cell_type": "markdown",
   "metadata": {},
   "source": [
    "# Toxic Release Sites\n",
    "\n",
    "The goal of this notebook (and project) is to identify Toxic Release Sites that are located within 5-miles of a medium to large sized town/city in Kentucky.\n",
    "\n",
    "This notebook can be re-used to identify other data that fall within a certain buffer radius of a separate piece of data (Example: Identify all landfills within 1,000 meters of a lake).\n",
    "\n",
    "Notebook Objectives:\n",
    "- Import data from a remote source\n",
    "- Inspect the data\n",
    "- Make a local copy\n",
    "- Remove any unwanted columns\n",
    "- Prepare data for export\n",
    "- Export the data to a json file\n",
    "\n",
    "Notebook and map created by [Kevin Dohner](https://github.com/KDoh12)"
   ]
  },
  {
   "attachments": {},
   "cell_type": "markdown",
   "metadata": {},
   "source": [
    "## Import the required packages"
   ]
  },
  {
   "cell_type": "code",
   "execution_count": 1,
   "metadata": {},
   "outputs": [],
   "source": [
    "# Import initial python packages\n",
    "%matplotlib inline\n",
    "\n",
    "import pandas as pd\n",
    "import geopandas as gpd\n",
    "from shapely.geometry import Point\n",
    "import matplotlib.pyplot as plt\n",
    "\n",
    "# This suppresses warnings which can help keep things looking clean\n",
    "import warnings\n",
    "warnings.simplefilter(action='ignore')"
   ]
  },
  {
   "attachments": {},
   "cell_type": "markdown",
   "metadata": {},
   "source": [
    "### Import, inspect and clone down the data\n",
    "\n",
    "It is good practice to make a local copy of the data before you start manipulating it. This can help keep everything cohesive and allows for you to have a copy of the data in case it gets taken down, or modified before you are finished working on it."
   ]
  },
  {
   "attachments": {},
   "cell_type": "markdown",
   "metadata": {},
   "source": [
    "### Import the data\n",
    "\n",
    "This is the first step whenever working with data as you need data to work with!\n",
    "\n",
    "Data Sources:\n",
    "- Populated Places from [Natural Earth](https://www.naturalearthdata.com/)\n",
    "- State Boundaries from [U.S. Census](https://www.census.gov/geographies/mapping-files/time-series/geo/carto-boundary-file.2017.html#list-tab-GJZM0THQ9XOOTZ5UEB)\n",
    "- Toxic Release Inventory from [data.world](https://data.world/dhs/epa-er-toxic-release-inventory)"
   ]
  },
  {
   "cell_type": "code",
   "execution_count": 2,
   "metadata": {},
   "outputs": [
    {
     "name": "stdout",
     "output_type": "stream",
     "text": [
      "epsg:4326\n",
      "epsg:4269\n"
     ]
    }
   ],
   "source": [
    "# Import the needed datasets\n",
    "# I am importing populated places and state boundary data as it will be used to obtain my end json file\n",
    "places_raw = gpd.read_file('https://naciscdn.org/naturalearth/10m/cultural/ne_10m_populated_places.zip')\n",
    "states_raw = gpd.read_file('http://www2.census.gov/geo/tiger/GENZ2017/shp/cb_2017_us_state_20m.zip')\n",
    "tri_raw = pd.read_csv('https://query.data.world/s/3b3oi57gti4qhoexmg74sdc3ftz2te', index_col='FID')\n",
    "\n",
    "# This outputs the CRS of the 2 shapefiles I imported\n",
    "# Note they are 2 different coordinate systems\n",
    "# This will be addressed at a later point\n",
    "print(places_raw.crs)\n",
    "print(states_raw.crs)"
   ]
  },
  {
   "attachments": {},
   "cell_type": "markdown",
   "metadata": {},
   "source": [
    "### Create a GeoDataFrame\n",
    "\n",
    "In order to use our csv data with geopandas, we must create a GeoDataFrame from the info found within it."
   ]
  },
  {
   "cell_type": "code",
   "execution_count": 3,
   "metadata": {},
   "outputs": [],
   "source": [
    "# Create a GeoDataFrame from the CSV data and assign the CRS to WGS84\n",
    "geoms = [Point(xy) for xy in zip(tri_raw.X, tri_raw.Y)]\n",
    "crs = \"EPSG:4326\"\n",
    "tri_geo = gpd.GeoDataFrame(tri_raw, crs=crs, geometry=geoms)"
   ]
  },
  {
   "attachments": {},
   "cell_type": "markdown",
   "metadata": {},
   "source": [
    "### Inspect the data\n",
    "\n",
    "It is always a good idea to inspect data to make sure it has what you are looking for before you make a local copy"
   ]
  },
  {
   "cell_type": "code",
   "execution_count": 4,
   "metadata": {},
   "outputs": [
    {
     "data": {
      "text/html": [
       "<div>\n",
       "<style scoped>\n",
       "    .dataframe tbody tr th:only-of-type {\n",
       "        vertical-align: middle;\n",
       "    }\n",
       "\n",
       "    .dataframe tbody tr th {\n",
       "        vertical-align: top;\n",
       "    }\n",
       "\n",
       "    .dataframe thead th {\n",
       "        text-align: right;\n",
       "    }\n",
       "</style>\n",
       "<table border=\"1\" class=\"dataframe\">\n",
       "  <thead>\n",
       "    <tr style=\"text-align: right;\">\n",
       "      <th></th>\n",
       "      <th>X</th>\n",
       "      <th>Y</th>\n",
       "      <th>REGISTRY_I</th>\n",
       "      <th>PRIMARY_NA</th>\n",
       "      <th>LOCATION_A</th>\n",
       "      <th>CITY_NAME</th>\n",
       "      <th>COUNTY_NAM</th>\n",
       "      <th>FIPS_CODE</th>\n",
       "      <th>STATE_CODE</th>\n",
       "      <th>POSTAL_COD</th>\n",
       "      <th>...</th>\n",
       "      <th>LAST_REPOR</th>\n",
       "      <th>FAC_URL</th>\n",
       "      <th>PGM_SYS_ID</th>\n",
       "      <th>PGM_SYS_AC</th>\n",
       "      <th>INTEREST_T</th>\n",
       "      <th>ACTIVE_STA</th>\n",
       "      <th>PUBLIC_IND</th>\n",
       "      <th>PROGRAM_UR</th>\n",
       "      <th>PGM_REPORT</th>\n",
       "      <th>geometry</th>\n",
       "    </tr>\n",
       "    <tr>\n",
       "      <th>FID</th>\n",
       "      <th></th>\n",
       "      <th></th>\n",
       "      <th></th>\n",
       "      <th></th>\n",
       "      <th></th>\n",
       "      <th></th>\n",
       "      <th></th>\n",
       "      <th></th>\n",
       "      <th></th>\n",
       "      <th></th>\n",
       "      <th></th>\n",
       "      <th></th>\n",
       "      <th></th>\n",
       "      <th></th>\n",
       "      <th></th>\n",
       "      <th></th>\n",
       "      <th></th>\n",
       "      <th></th>\n",
       "      <th></th>\n",
       "      <th></th>\n",
       "      <th></th>\n",
       "    </tr>\n",
       "  </thead>\n",
       "  <tbody>\n",
       "    <tr>\n",
       "      <th>15001</th>\n",
       "      <td>-119.86581</td>\n",
       "      <td>34.43024</td>\n",
       "      <td>110002916836</td>\n",
       "      <td>LITTON GUIDANCE AND CONTROL SYSTEMS</td>\n",
       "      <td>6769 HOLLISTER AVENUE</td>\n",
       "      <td>GOLETA</td>\n",
       "      <td>SANTA BARBARA</td>\n",
       "      <td>06083</td>\n",
       "      <td>CA</td>\n",
       "      <td>93117-3001</td>\n",
       "      <td>...</td>\n",
       "      <td>2002-06-25T00:00:00.000Z</td>\n",
       "      <td>http://oaspub.epa.gov/enviro/fac_gateway.main?...</td>\n",
       "      <td>93118LTTNS6769H</td>\n",
       "      <td>TRIS</td>\n",
       "      <td>TRI REPORTER</td>\n",
       "      <td>OPEN</td>\n",
       "      <td>Y</td>\n",
       "      <td>http://www.epa.gov/tri/</td>\n",
       "      <td>no data yet</td>\n",
       "      <td>POINT (-119.86581 34.43024)</td>\n",
       "    </tr>\n",
       "    <tr>\n",
       "      <th>15002</th>\n",
       "      <td>-81.23533</td>\n",
       "      <td>41.75468</td>\n",
       "      <td>110000385921</td>\n",
       "      <td>UNIROYAL CHEMICAL CO INC</td>\n",
       "      <td>720 FAIRPORT NURSERY ROAD</td>\n",
       "      <td>PAINESVILLE</td>\n",
       "      <td>LAKE</td>\n",
       "      <td>39085</td>\n",
       "      <td>OH</td>\n",
       "      <td>44077-4462</td>\n",
       "      <td>...</td>\n",
       "      <td>2002-06-24T00:00:00.000Z</td>\n",
       "      <td>http://oaspub.epa.gov/enviro/fac_gateway.main?...</td>\n",
       "      <td>44077NRYLC720FA</td>\n",
       "      <td>TRIS</td>\n",
       "      <td>TRI REPORTER</td>\n",
       "      <td>OPEN</td>\n",
       "      <td>Y</td>\n",
       "      <td>http://www.epa.gov/tri/</td>\n",
       "      <td>no data yet</td>\n",
       "      <td>POINT (-81.23533 41.75468)</td>\n",
       "    </tr>\n",
       "    <tr>\n",
       "      <th>15003</th>\n",
       "      <td>-83.44870</td>\n",
       "      <td>41.66416</td>\n",
       "      <td>110000384334</td>\n",
       "      <td>AUTONEUM NORTH AMERICA INC</td>\n",
       "      <td>645 N. LALLENDORF RD.</td>\n",
       "      <td>OREGON</td>\n",
       "      <td>LUCAS</td>\n",
       "      <td>39095</td>\n",
       "      <td>OH</td>\n",
       "      <td>43616</td>\n",
       "      <td>...</td>\n",
       "      <td>2012-06-29T00:00:00.000Z</td>\n",
       "      <td>http://oaspub.epa.gov/enviro/fac_gateway.main?...</td>\n",
       "      <td>43616GLBND645LA</td>\n",
       "      <td>TRIS</td>\n",
       "      <td>TRI REPORTER</td>\n",
       "      <td>OPEN</td>\n",
       "      <td>Y</td>\n",
       "      <td>http://www.epa.gov/tri/</td>\n",
       "      <td>no data yet</td>\n",
       "      <td>POINT (-83.44870 41.66416)</td>\n",
       "    </tr>\n",
       "    <tr>\n",
       "      <th>15004</th>\n",
       "      <td>-117.38566</td>\n",
       "      <td>47.75197</td>\n",
       "      <td>110000491478</td>\n",
       "      <td>TRAVIS PATTERN</td>\n",
       "      <td>1413 EAST HAWTHORNE ROAD</td>\n",
       "      <td>SPOKANE</td>\n",
       "      <td>SPOKANE</td>\n",
       "      <td>53063</td>\n",
       "      <td>WA</td>\n",
       "      <td>99218-3100</td>\n",
       "      <td>...</td>\n",
       "      <td>2014-05-30T00:00:00.000Z</td>\n",
       "      <td>http://oaspub.epa.gov/enviro/fac_gateway.main?...</td>\n",
       "      <td>99207TRVSPE1413</td>\n",
       "      <td>TRIS</td>\n",
       "      <td>TRI REPORTER</td>\n",
       "      <td>OPEN</td>\n",
       "      <td>Y</td>\n",
       "      <td>http://www.epa.gov/tri/</td>\n",
       "      <td>no data yet</td>\n",
       "      <td>POINT (-117.38566 47.75197)</td>\n",
       "    </tr>\n",
       "    <tr>\n",
       "      <th>15005</th>\n",
       "      <td>-77.40728</td>\n",
       "      <td>37.58766</td>\n",
       "      <td>110022532623</td>\n",
       "      <td>ENNIS PAINT-RICHMOND</td>\n",
       "      <td>4400 VAWTER AVE</td>\n",
       "      <td>RICHMOND</td>\n",
       "      <td>HENRICO</td>\n",
       "      <td>51087</td>\n",
       "      <td>VA</td>\n",
       "      <td>23222</td>\n",
       "      <td>...</td>\n",
       "      <td>2014-06-25T00:00:00.000Z</td>\n",
       "      <td>http://oaspub.epa.gov/enviro/fac_gateway.main?...</td>\n",
       "      <td>23222DGLSC4400V</td>\n",
       "      <td>TRIS</td>\n",
       "      <td>TRI REPORTER</td>\n",
       "      <td>OPEN</td>\n",
       "      <td>Y</td>\n",
       "      <td>http://www.epa.gov/tri/</td>\n",
       "      <td>no data yet</td>\n",
       "      <td>POINT (-77.40728 37.58766)</td>\n",
       "    </tr>\n",
       "  </tbody>\n",
       "</table>\n",
       "<p>5 rows × 28 columns</p>\n",
       "</div>"
      ],
      "text/plain": [
       "               X         Y    REGISTRY_I                           PRIMARY_NA  \\\n",
       "FID                                                                             \n",
       "15001 -119.86581  34.43024  110002916836  LITTON GUIDANCE AND CONTROL SYSTEMS   \n",
       "15002  -81.23533  41.75468  110000385921             UNIROYAL CHEMICAL CO INC   \n",
       "15003  -83.44870  41.66416  110000384334           AUTONEUM NORTH AMERICA INC   \n",
       "15004 -117.38566  47.75197  110000491478                       TRAVIS PATTERN   \n",
       "15005  -77.40728  37.58766  110022532623                 ENNIS PAINT-RICHMOND   \n",
       "\n",
       "                      LOCATION_A    CITY_NAME     COUNTY_NAM FIPS_CODE  \\\n",
       "FID                                                                      \n",
       "15001      6769 HOLLISTER AVENUE       GOLETA  SANTA BARBARA     06083   \n",
       "15002  720 FAIRPORT NURSERY ROAD  PAINESVILLE           LAKE     39085   \n",
       "15003      645 N. LALLENDORF RD.       OREGON          LUCAS     39095   \n",
       "15004   1413 EAST HAWTHORNE ROAD      SPOKANE        SPOKANE     53063   \n",
       "15005            4400 VAWTER AVE     RICHMOND        HENRICO     51087   \n",
       "\n",
       "      STATE_CODE  POSTAL_COD  ...                LAST_REPOR  \\\n",
       "FID                           ...                             \n",
       "15001         CA  93117-3001  ...  2002-06-25T00:00:00.000Z   \n",
       "15002         OH  44077-4462  ...  2002-06-24T00:00:00.000Z   \n",
       "15003         OH       43616  ...  2012-06-29T00:00:00.000Z   \n",
       "15004         WA  99218-3100  ...  2014-05-30T00:00:00.000Z   \n",
       "15005         VA       23222  ...  2014-06-25T00:00:00.000Z   \n",
       "\n",
       "                                                 FAC_URL       PGM_SYS_ID  \\\n",
       "FID                                                                         \n",
       "15001  http://oaspub.epa.gov/enviro/fac_gateway.main?...  93118LTTNS6769H   \n",
       "15002  http://oaspub.epa.gov/enviro/fac_gateway.main?...  44077NRYLC720FA   \n",
       "15003  http://oaspub.epa.gov/enviro/fac_gateway.main?...  43616GLBND645LA   \n",
       "15004  http://oaspub.epa.gov/enviro/fac_gateway.main?...  99207TRVSPE1413   \n",
       "15005  http://oaspub.epa.gov/enviro/fac_gateway.main?...  23222DGLSC4400V   \n",
       "\n",
       "       PGM_SYS_AC    INTEREST_T ACTIVE_STA PUBLIC_IND  \\\n",
       "FID                                                     \n",
       "15001        TRIS  TRI REPORTER       OPEN          Y   \n",
       "15002        TRIS  TRI REPORTER       OPEN          Y   \n",
       "15003        TRIS  TRI REPORTER       OPEN          Y   \n",
       "15004        TRIS  TRI REPORTER       OPEN          Y   \n",
       "15005        TRIS  TRI REPORTER       OPEN          Y   \n",
       "\n",
       "                    PROGRAM_UR   PGM_REPORT                     geometry  \n",
       "FID                                                                       \n",
       "15001  http://www.epa.gov/tri/  no data yet  POINT (-119.86581 34.43024)  \n",
       "15002  http://www.epa.gov/tri/  no data yet   POINT (-81.23533 41.75468)  \n",
       "15003  http://www.epa.gov/tri/  no data yet   POINT (-83.44870 41.66416)  \n",
       "15004  http://www.epa.gov/tri/  no data yet  POINT (-117.38566 47.75197)  \n",
       "15005  http://www.epa.gov/tri/  no data yet   POINT (-77.40728 37.58766)  \n",
       "\n",
       "[5 rows x 28 columns]"
      ]
     },
     "execution_count": 4,
     "metadata": {},
     "output_type": "execute_result"
    }
   ],
   "source": [
    "# Get an idea of what data is in the Toxic Release Inventory\n",
    "tri_geo.head()"
   ]
  },
  {
   "cell_type": "code",
   "execution_count": 5,
   "metadata": {},
   "outputs": [
    {
     "name": "stdout",
     "output_type": "stream",
     "text": [
      "<class 'geopandas.geodataframe.GeoDataFrame'>\n",
      "Int64Index: 57630 entries, 15001 to 57000\n",
      "Data columns (total 28 columns):\n",
      " #   Column      Non-Null Count  Dtype   \n",
      "---  ------      --------------  -----   \n",
      " 0   X           57630 non-null  float64 \n",
      " 1   Y           57630 non-null  float64 \n",
      " 2   REGISTRY_I  57630 non-null  int64   \n",
      " 3   PRIMARY_NA  57630 non-null  object  \n",
      " 4   LOCATION_A  57630 non-null  object  \n",
      " 5   CITY_NAME   57630 non-null  object  \n",
      " 6   COUNTY_NAM  57630 non-null  object  \n",
      " 7   FIPS_CODE   57630 non-null  object  \n",
      " 8   STATE_CODE  57630 non-null  object  \n",
      " 9   POSTAL_COD  57630 non-null  object  \n",
      " 10  LATITUDE83  57630 non-null  float64 \n",
      " 11  LONGITUDE8  57630 non-null  float64 \n",
      " 12  HUC8_CODE   57630 non-null  object  \n",
      " 13  ACCURACY_V  57630 non-null  int64   \n",
      " 14  COLLECT_MT  57630 non-null  object  \n",
      " 15  REF_POINT_  57630 non-null  object  \n",
      " 16  CREATE_DAT  57630 non-null  object  \n",
      " 17  UPDATE_DAT  56861 non-null  object  \n",
      " 18  LAST_REPOR  57488 non-null  object  \n",
      " 19  FAC_URL     57630 non-null  object  \n",
      " 20  PGM_SYS_ID  57630 non-null  object  \n",
      " 21  PGM_SYS_AC  57630 non-null  object  \n",
      " 22  INTEREST_T  57630 non-null  object  \n",
      " 23  ACTIVE_STA  57630 non-null  object  \n",
      " 24  PUBLIC_IND  57630 non-null  object  \n",
      " 25  PROGRAM_UR  57630 non-null  object  \n",
      " 26  PGM_REPORT  57630 non-null  object  \n",
      " 27  geometry    57630 non-null  geometry\n",
      "dtypes: float64(4), geometry(1), int64(2), object(21)\n",
      "memory usage: 12.8+ MB\n"
     ]
    }
   ],
   "source": [
    "# As you can see, this dataset has a lot of columns that we don't need\n",
    "# For now we will keep so we can have a whole copy\n",
    "# We will trim it down in a bit\n",
    "tri_geo.info()"
   ]
  },
  {
   "attachments": {},
   "cell_type": "markdown",
   "metadata": {},
   "source": [
    "### Clone and reload the data"
   ]
  },
  {
   "cell_type": "code",
   "execution_count": 6,
   "metadata": {},
   "outputs": [],
   "source": [
    "# Write the raw data to a file so it can be worked on offline\n",
    "# Note that you must have a /data directory already for this code to work\n",
    "# You can always modify the output location if necessary\n",
    "places_raw.to_file('./data/populated_places.json', driver='GeoJSON', encoding='utf-8')\n",
    "states_raw.to_file('./data/states.json', driver='GeoJSON', encoding='utf-8')\n",
    "tri_geo.to_file('./data/toxic_release_inventory.json', driver='GeoJSON', encoding='utf-8')"
   ]
  },
  {
   "cell_type": "code",
   "execution_count": 7,
   "metadata": {},
   "outputs": [],
   "source": [
    "# Read the downloaded data back into the notebook\n",
    "places = gpd.read_file('data/populated_places.json')\n",
    "states = gpd.read_file('data/states.json')\n",
    "tri = gpd.read_file('data/toxic_release_inventory.json')"
   ]
  },
  {
   "attachments": {},
   "cell_type": "markdown",
   "metadata": {},
   "source": [
    "## Remove unwanted columns\n",
    "\n",
    "We can clean up our data some so that the finished product isn't so big and full of data that we don't need"
   ]
  },
  {
   "cell_type": "code",
   "execution_count": 8,
   "metadata": {},
   "outputs": [
    {
     "data": {
      "text/html": [
       "<div>\n",
       "<style scoped>\n",
       "    .dataframe tbody tr th:only-of-type {\n",
       "        vertical-align: middle;\n",
       "    }\n",
       "\n",
       "    .dataframe tbody tr th {\n",
       "        vertical-align: top;\n",
       "    }\n",
       "\n",
       "    .dataframe thead th {\n",
       "        text-align: right;\n",
       "    }\n",
       "</style>\n",
       "<table border=\"1\" class=\"dataframe\">\n",
       "  <thead>\n",
       "    <tr style=\"text-align: right;\">\n",
       "      <th></th>\n",
       "      <th>FID</th>\n",
       "      <th>X</th>\n",
       "      <th>Y</th>\n",
       "      <th>PRIMARY_NA</th>\n",
       "      <th>LOCATION_A</th>\n",
       "      <th>CITY_NAME</th>\n",
       "      <th>COUNTY_NAM</th>\n",
       "      <th>FIPS_CODE</th>\n",
       "      <th>STATE_CODE</th>\n",
       "      <th>geometry</th>\n",
       "    </tr>\n",
       "  </thead>\n",
       "  <tbody>\n",
       "    <tr>\n",
       "      <th>0</th>\n",
       "      <td>15001</td>\n",
       "      <td>-119.86581</td>\n",
       "      <td>34.43024</td>\n",
       "      <td>LITTON GUIDANCE AND CONTROL SYSTEMS</td>\n",
       "      <td>6769 HOLLISTER AVENUE</td>\n",
       "      <td>GOLETA</td>\n",
       "      <td>SANTA BARBARA</td>\n",
       "      <td>06083</td>\n",
       "      <td>CA</td>\n",
       "      <td>POINT (-119.86581 34.43024)</td>\n",
       "    </tr>\n",
       "    <tr>\n",
       "      <th>1</th>\n",
       "      <td>15002</td>\n",
       "      <td>-81.23533</td>\n",
       "      <td>41.75468</td>\n",
       "      <td>UNIROYAL CHEMICAL CO INC</td>\n",
       "      <td>720 FAIRPORT NURSERY ROAD</td>\n",
       "      <td>PAINESVILLE</td>\n",
       "      <td>LAKE</td>\n",
       "      <td>39085</td>\n",
       "      <td>OH</td>\n",
       "      <td>POINT (-81.23533 41.75468)</td>\n",
       "    </tr>\n",
       "    <tr>\n",
       "      <th>2</th>\n",
       "      <td>15003</td>\n",
       "      <td>-83.44870</td>\n",
       "      <td>41.66416</td>\n",
       "      <td>AUTONEUM NORTH AMERICA INC</td>\n",
       "      <td>645 N. LALLENDORF RD.</td>\n",
       "      <td>OREGON</td>\n",
       "      <td>LUCAS</td>\n",
       "      <td>39095</td>\n",
       "      <td>OH</td>\n",
       "      <td>POINT (-83.44870 41.66416)</td>\n",
       "    </tr>\n",
       "    <tr>\n",
       "      <th>3</th>\n",
       "      <td>15004</td>\n",
       "      <td>-117.38566</td>\n",
       "      <td>47.75197</td>\n",
       "      <td>TRAVIS PATTERN</td>\n",
       "      <td>1413 EAST HAWTHORNE ROAD</td>\n",
       "      <td>SPOKANE</td>\n",
       "      <td>SPOKANE</td>\n",
       "      <td>53063</td>\n",
       "      <td>WA</td>\n",
       "      <td>POINT (-117.38566 47.75197)</td>\n",
       "    </tr>\n",
       "    <tr>\n",
       "      <th>4</th>\n",
       "      <td>15005</td>\n",
       "      <td>-77.40728</td>\n",
       "      <td>37.58766</td>\n",
       "      <td>ENNIS PAINT-RICHMOND</td>\n",
       "      <td>4400 VAWTER AVE</td>\n",
       "      <td>RICHMOND</td>\n",
       "      <td>HENRICO</td>\n",
       "      <td>51087</td>\n",
       "      <td>VA</td>\n",
       "      <td>POINT (-77.40728 37.58766)</td>\n",
       "    </tr>\n",
       "  </tbody>\n",
       "</table>\n",
       "</div>"
      ],
      "text/plain": [
       "     FID          X         Y                           PRIMARY_NA  \\\n",
       "0  15001 -119.86581  34.43024  LITTON GUIDANCE AND CONTROL SYSTEMS   \n",
       "1  15002  -81.23533  41.75468             UNIROYAL CHEMICAL CO INC   \n",
       "2  15003  -83.44870  41.66416           AUTONEUM NORTH AMERICA INC   \n",
       "3  15004 -117.38566  47.75197                       TRAVIS PATTERN   \n",
       "4  15005  -77.40728  37.58766                 ENNIS PAINT-RICHMOND   \n",
       "\n",
       "                  LOCATION_A    CITY_NAME     COUNTY_NAM FIPS_CODE STATE_CODE  \\\n",
       "0      6769 HOLLISTER AVENUE       GOLETA  SANTA BARBARA     06083         CA   \n",
       "1  720 FAIRPORT NURSERY ROAD  PAINESVILLE           LAKE     39085         OH   \n",
       "2      645 N. LALLENDORF RD.       OREGON          LUCAS     39095         OH   \n",
       "3   1413 EAST HAWTHORNE ROAD      SPOKANE        SPOKANE     53063         WA   \n",
       "4            4400 VAWTER AVE     RICHMOND        HENRICO     51087         VA   \n",
       "\n",
       "                      geometry  \n",
       "0  POINT (-119.86581 34.43024)  \n",
       "1   POINT (-81.23533 41.75468)  \n",
       "2   POINT (-83.44870 41.66416)  \n",
       "3  POINT (-117.38566 47.75197)  \n",
       "4   POINT (-77.40728 37.58766)  "
      ]
     },
     "execution_count": 8,
     "metadata": {},
     "output_type": "execute_result"
    }
   ],
   "source": [
    "# As we saw earlier, there were a bunch of columns that we just don't need\n",
    "# We can drop a lot of them\n",
    "tri.drop(['REGISTRY_I', 'POSTAL_COD', 'LATITUDE83', 'LONGITUDE8', 'HUC8_CODE', 'ACCURACY_V', 'COLLECT_MT', 'REF_POINT_', 'CREATE_DAT', 'UPDATE_DAT', 'LAST_REPOR', 'FAC_URL', 'PGM_SYS_ID', 'PGM_SYS_AC', 'INTEREST_T', 'ACTIVE_STA', 'PUBLIC_IND', 'PROGRAM_UR', 'PGM_REPORT'], axis=1, inplace=True)\n",
    "tri.head()"
   ]
  },
  {
   "attachments": {},
   "cell_type": "markdown",
   "metadata": {},
   "source": [
    "## Prepare data for export\n",
    "\n",
    "### Create a buffer\n",
    "\n",
    "In this section we will create a buffer which we will use later to pull out our Toxic Release Sites.\n",
    "\n",
    "For help with coordinate systems and finding the proj4 text like the ones below, visit [epsg.io](https://epsg.io/)"
   ]
  },
  {
   "cell_type": "code",
   "execution_count": 9,
   "metadata": {},
   "outputs": [],
   "source": [
    "# Switch to an equidistant conic project to ensure accurate measurements\n",
    "# This is important since we are wanting to create accurate buffer distances\n",
    "# Note that the proj4 line tells us that this new CRS uses meters as it's units\n",
    "states_eqdc = states.to_crs('+proj=eqdc +lat_0=39 +lon_0=-96 +lat_1=33 +lat_2=45 +x_0=0 +y_0=0 +datum=NAD83 +units=m +no_defs')\n",
    "places_eqdc = places.to_crs('+proj=eqdc +lat_0=39 +lon_0=-96 +lat_1=33 +lat_2=45 +x_0=0 +y_0=0 +datum=NAD83 +units=m +no_defs ')\n",
    "tri_eqdc = tri.to_crs('+proj=eqdc +lat_0=39 +lon_0=-96 +lat_1=33 +lat_2=45 +x_0=0 +y_0=0 +datum=NAD83 +units=m +no_defs')\n"
   ]
  },
  {
   "cell_type": "code",
   "execution_count": 10,
   "metadata": {},
   "outputs": [],
   "source": [
    "# Create a new column and make it equal the buffer result to retain the attribute data\n",
    "# Buffer distance below is 5-miles converted to meters since the CRS is now in meters\n",
    "places_eqdc['buffer'] = places_eqdc.buffer(8046.72)"
   ]
  },
  {
   "cell_type": "code",
   "execution_count": 11,
   "metadata": {},
   "outputs": [],
   "source": [
    "# Set the buffer column as the active geometry\n",
    "# This replaces it's \"point\" geometry with a \"polygon\" geometry\n",
    "places_eqdc = places_eqdc.set_geometry('buffer')"
   ]
  },
  {
   "attachments": {},
   "cell_type": "markdown",
   "metadata": {},
   "source": [
    "### Pull out data for Kentucky\n",
    "\n",
    "In this section we will find all of our populated places that are located in Kentucky, which we will then use to find all the Toxic Release Sites that are located within 5-miles of populated towns/cities in Kentucky."
   ]
  },
  {
   "cell_type": "code",
   "execution_count": 12,
   "metadata": {},
   "outputs": [],
   "source": [
    "# This pulls Kentucky out of the states layer\n",
    "ky_eqdc = states_eqdc[states_eqdc['STATEFP'] == '21']\n",
    "\n",
    "# This sets the kentucky polygon as a single polygon instead of a multipart polygon\n",
    "# In order to use the .intersect() method it must be a single polygon\n",
    "ky_poly = ky_eqdc.unary_union"
   ]
  },
  {
   "cell_type": "code",
   "execution_count": 13,
   "metadata": {},
   "outputs": [],
   "source": [
    "# This uses the .intersect() method to pull just the populated places that are within Kentucky\n",
    "places_eqdc_ky = places_eqdc[places_eqdc.geometry.intersects(ky_poly)]\n",
    "\n",
    "# This pulls just the Toxic Release Sites that are within Kentucky\n",
    "tri_eqdc_ky = tri_eqdc[tri_eqdc.geometry.intersects(ky_poly)]"
   ]
  },
  {
   "attachments": {},
   "cell_type": "markdown",
   "metadata": {},
   "source": [
    "### Visualize data\n",
    "\n",
    "This is a good moment to visualize what we have so far. We have taken our data which spans the United States, and in the case of the populated places layer, the entire world, and condensed it down to just Kentucky."
   ]
  },
  {
   "cell_type": "code",
   "execution_count": 14,
   "metadata": {},
   "outputs": [
    {
     "data": {
      "image/png": "[encoded data removed]",
      "text/plain": [
       "<Figure size 640x480 with 1 Axes>"
      ]
     },
     "metadata": {},
     "output_type": "display_data"
    }
   ],
   "source": [
    "fig, ax = plt.subplots()\n",
    "\n",
    "# This will display the state of Kentucky with a light gray fill and black border\n",
    "ky_eqdc.plot(ax=ax, color='#f2f2f2', edgecolor='000000', zorder=0);\n",
    "\n",
    "# This will display the populated places layer as a blue dot\n",
    "# Note that the dot is actually the 5-mile buffer\n",
    "places_eqdc_ky.plot(ax=ax, color='#295b97', zorder=1);\n",
    "\n",
    "# This will display the Toxic Release Sites as a orange dot\n",
    "tri_eqdc_ky.plot(ax=ax, color='orange', markersize=.4, zorder=2);"
   ]
  },
  {
   "attachments": {},
   "cell_type": "markdown",
   "metadata": {},
   "source": [
    "### Find the Toxic Release Sites\n",
    "\n",
    "We are now ready to find all the Toxic Release Sites that are within 5-miles of a populated place."
   ]
  },
  {
   "cell_type": "code",
   "execution_count": 15,
   "metadata": {},
   "outputs": [],
   "source": [
    "# Convert the populated places layer into a single polygon\n",
    "# Remember this is so we can use the .intersect() method\n",
    "places_poly = places_eqdc_ky.unary_union\n",
    "\n",
    "# Use the .intersect() method to find all sites within the 5-mile buffer\n",
    "tri_eqdc_places = tri_eqdc_ky[tri_eqdc_ky.geometry.intersects(places_poly)]"
   ]
  },
  {
   "attachments": {},
   "cell_type": "markdown",
   "metadata": {},
   "source": [
    "### Visualize data\n",
    "\n",
    "Let's take a look at our data again to ensure we got what we wanted"
   ]
  },
  {
   "cell_type": "code",
   "execution_count": 16,
   "metadata": {},
   "outputs": [
    {
     "data": {
      "image/png": "[encoded data removed]",
      "text/plain": [
       "<Figure size 640x480 with 1 Axes>"
      ]
     },
     "metadata": {},
     "output_type": "display_data"
    }
   ],
   "source": [
    "fig, ax = plt.subplots()\n",
    "\n",
    "# This will display the state of Kentucky with a light gray fill and black border\n",
    "ky_eqdc.plot(ax=ax, color='#f2f2f2', edgecolor='000000', zorder=0);\n",
    "\n",
    "# This will display the populated places layer as a blue dot\n",
    "# Note that the dot is actually the 10-mile buffer\n",
    "places_eqdc_ky.plot(ax=ax, color='#295b97', zorder=1);\n",
    "\n",
    "# This will display the Toxic Release Sites as a orange dot\n",
    "tri_eqdc_places.plot(ax=ax, color='orange', markersize=.4, zorder=2);"
   ]
  },
  {
   "attachments": {},
   "cell_type": "markdown",
   "metadata": {},
   "source": [
    "## Export the data\n",
    "\n",
    "Now that we have the data that we came for, it is now time to export it so we can use it in a web map!\n",
    "\n",
    "### Change the CRS\n",
    "\n",
    "Since we no longer need accurate measurements, we can change our coordinate system. Your needs may vary, but for this project, I will use EPSG:4326, WGS84."
   ]
  },
  {
   "cell_type": "code",
   "execution_count": 17,
   "metadata": {},
   "outputs": [
    {
     "data": {
      "text/plain": [
       "<Geographic 2D CRS: +proj=longlat +datum=WGS84 +no_defs +type=crs>\n",
       "Name: unknown\n",
       "Axis Info [ellipsoidal]:\n",
       "- lon[east]: Longitude (degree)\n",
       "- lat[north]: Latitude (degree)\n",
       "Area of Use:\n",
       "- undefined\n",
       "Datum: World Geodetic System 1984\n",
       "- Ellipsoid: WGS 84\n",
       "- Prime Meridian: Greenwich"
      ]
     },
     "execution_count": 17,
     "metadata": {},
     "output_type": "execute_result"
    }
   ],
   "source": [
    "# Change the CRS to the WGS84 coordinate system\n",
    "tri_wgs_places = tri_eqdc_places.to_crs('+proj=longlat +datum=WGS84 +no_defs +type=crs')\n",
    "\n",
    "# Check the CRS of the layer\n",
    "tri_wgs_places.crs"
   ]
  },
  {
   "attachments": {},
   "cell_type": "markdown",
   "metadata": {},
   "source": [
    "### Write to file\n",
    "\n",
    "This is the final step, we just need to simply write the data out to a new GeoJSON file!"
   ]
  },
  {
   "cell_type": "code",
   "execution_count": 18,
   "metadata": {},
   "outputs": [],
   "source": [
    "# Output the data to a new json file to then put in the map\n",
    "# Note that the /map/data directory needs to already exist\n",
    "tri_wgs_places.to_file('../map/data/toxic-sites-5mile.json', driver='GeoJSON')"
   ]
  },
  {
   "attachments": {},
   "cell_type": "markdown",
   "metadata": {},
   "source": [
    "### GeoJSON Tip\n",
    "\n",
    "If you want to test that your output is correct, and usable in things such as web maps, upload your newly created file to [geojson.io](https://geojson.io).\n",
    "\n",
    "This website will take your GeoJSON file and display it on a globe if everything checks out."
   ]
  }
 ],
 "metadata": {
  "kernelspec": {
   "display_name": "finalproj",
   "language": "python",
   "name": "python3"
  },
  "language_info": {
   "codemirror_mode": {
    "name": "ipython",
    "version": 3
   },
   "file_extension": ".py",
   "mimetype": "text/x-python",
   "name": "python",
   "nbconvert_exporter": "python",
   "pygments_lexer": "ipython3",
   "version": "3.9.12"
  },
  "orig_nbformat": 4,
  "vscode": {
   "interpreter": {
    "hash": "c3fb4a30560ad68cdf7f6cce25d97da1dbf90b234f8bd393189030399d378eae"
   }
  }
 },
 "nbformat": 4,
 "nbformat_minor": 2
}
